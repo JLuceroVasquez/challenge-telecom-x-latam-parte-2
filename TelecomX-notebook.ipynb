{
  "nbformat": 4,
  "nbformat_minor": 0,
  "metadata": {
    "colab": {
      "provenance": [],
      "authorship_tag": "ABX9TyN53+9Qwua+41LoNNiZc0t6",
      "include_colab_link": true
    },
    "kernelspec": {
      "name": "python3",
      "display_name": "Python 3"
    },
    "language_info": {
      "name": "python"
    }
  },
  "cells": [
    {
      "cell_type": "markdown",
      "metadata": {
        "id": "view-in-github",
        "colab_type": "text"
      },
      "source": [
        "<a href=\"https://colab.research.google.com/github/JLuceroVasquez/challenge-telecom-x-latam-parte-2/blob/main/TelecomX-notebook.ipynb\" target=\"_parent\"><img src=\"https://colab.research.google.com/assets/colab-badge.svg\" alt=\"Open In Colab\"/></a>"
      ]
    },
    {
      "cell_type": "markdown",
      "source": [
        "#**Desafío Telecom parte 2**"
      ],
      "metadata": {
        "id": "y_YQJ-jkTh2E"
      }
    },
    {
      "cell_type": "markdown",
      "source": [
        "##**Preparación de los datos**"
      ],
      "metadata": {
        "id": "CL0pUzVcYpYU"
      }
    },
    {
      "cell_type": "markdown",
      "source": [
        "###*Extracción del archivo tratado*"
      ],
      "metadata": {
        "id": "Sox6YVevZK-o"
      }
    },
    {
      "cell_type": "code",
      "execution_count": null,
      "metadata": {
        "id": "t2OkODMkTeg5"
      },
      "outputs": [],
      "source": []
    },
    {
      "cell_type": "markdown",
      "source": [
        "###*Eliminación de Columnas Irrelevantes*"
      ],
      "metadata": {
        "id": "dImJfDx9ZSl5"
      }
    },
    {
      "cell_type": "code",
      "source": [],
      "metadata": {
        "id": "TauqEQfGZSER"
      },
      "execution_count": null,
      "outputs": []
    },
    {
      "cell_type": "markdown",
      "source": [
        "###*Encoding*"
      ],
      "metadata": {
        "id": "Eh8mFrOmZaYT"
      }
    },
    {
      "cell_type": "code",
      "source": [],
      "metadata": {
        "id": "bGHFTJDWZfis"
      },
      "execution_count": null,
      "outputs": []
    },
    {
      "cell_type": "markdown",
      "source": [
        "###*Proporción de clases en Churn*"
      ],
      "metadata": {
        "id": "wgKLZ-FwZf0D"
      }
    },
    {
      "cell_type": "code",
      "source": [],
      "metadata": {
        "id": "KtIMv2wSZ2qR"
      },
      "execution_count": null,
      "outputs": []
    },
    {
      "cell_type": "markdown",
      "source": [
        "###*Balanceo de clases (opcional)*"
      ],
      "metadata": {
        "id": "w4tEPFjsZ3J_"
      }
    },
    {
      "cell_type": "code",
      "source": [],
      "metadata": {
        "id": "gDWn2zWKZ7XC"
      },
      "execution_count": null,
      "outputs": []
    },
    {
      "cell_type": "markdown",
      "source": [
        "###*Normalización o estandarización (opcional)*"
      ],
      "metadata": {
        "id": "zcmAHXLMZ7pJ"
      }
    },
    {
      "cell_type": "code",
      "source": [],
      "metadata": {
        "id": "nTvuLpxdaGIi"
      },
      "execution_count": null,
      "outputs": []
    },
    {
      "cell_type": "markdown",
      "source": [
        "##**Correlación y selección de variables**"
      ],
      "metadata": {
        "id": "45EfY7C1Y2a1"
      }
    },
    {
      "cell_type": "markdown",
      "source": [
        "###*Análisis de correlación*"
      ],
      "metadata": {
        "id": "FgTrTxAUaPR_"
      }
    },
    {
      "cell_type": "code",
      "source": [],
      "metadata": {
        "id": "nlqCZ8ouY9h-"
      },
      "execution_count": null,
      "outputs": []
    },
    {
      "cell_type": "markdown",
      "source": [
        "###*Análisis dirigido*"
      ],
      "metadata": {
        "id": "VOfM7EqWaUHG"
      }
    },
    {
      "cell_type": "code",
      "source": [],
      "metadata": {
        "id": "pqz7HJjpaUjP"
      },
      "execution_count": null,
      "outputs": []
    },
    {
      "cell_type": "markdown",
      "source": [
        "##**Modelo predictivo**"
      ],
      "metadata": {
        "id": "3dpN3pewY923"
      }
    },
    {
      "cell_type": "markdown",
      "source": [
        "###*Separación de datos*"
      ],
      "metadata": {
        "id": "PP1SX_L5aaDw"
      }
    },
    {
      "cell_type": "code",
      "source": [],
      "metadata": {
        "id": "BOJ4Odm7ZHvQ"
      },
      "execution_count": null,
      "outputs": []
    },
    {
      "cell_type": "markdown",
      "source": [
        "###*Creación de modelos*"
      ],
      "metadata": {
        "id": "2unCQ4c9aeE-"
      }
    },
    {
      "cell_type": "code",
      "source": [],
      "metadata": {
        "id": "F82TTbGnaefQ"
      },
      "execution_count": null,
      "outputs": []
    },
    {
      "cell_type": "markdown",
      "source": [
        "###*Evaluación de modelos*"
      ],
      "metadata": {
        "id": "jMq8kJ0FaeyZ"
      }
    },
    {
      "cell_type": "code",
      "source": [],
      "metadata": {
        "id": "6szZ28VUae9i"
      },
      "execution_count": null,
      "outputs": []
    },
    {
      "cell_type": "markdown",
      "source": [
        "##**Optimización del mejor modelo**"
      ],
      "metadata": {
        "id": "PnYG-LhQbSOI"
      }
    },
    {
      "cell_type": "markdown",
      "source": [
        "###*Selección de variables según importancia*"
      ],
      "metadata": {
        "id": "x_LSTV2xbYKQ"
      }
    },
    {
      "cell_type": "code",
      "source": [],
      "metadata": {
        "id": "s_NC8DWRbSkh"
      },
      "execution_count": null,
      "outputs": []
    },
    {
      "cell_type": "markdown",
      "source": [
        "###*Optimización de los hiperparámetros*"
      ],
      "metadata": {
        "id": "DJH34Y_Ybh_8"
      }
    },
    {
      "cell_type": "code",
      "source": [],
      "metadata": {
        "id": "IVMCBggvbhlR"
      },
      "execution_count": null,
      "outputs": []
    },
    {
      "cell_type": "markdown",
      "source": [
        "###*Exportación del modelo campeón*"
      ],
      "metadata": {
        "id": "O-4WuzEwbtLC"
      }
    },
    {
      "cell_type": "code",
      "source": [],
      "metadata": {
        "id": "1_tg5mt_brzs"
      },
      "execution_count": null,
      "outputs": []
    },
    {
      "cell_type": "markdown",
      "source": [
        "##**Interpretación y conclusiones**\n",
        "###*Análisis de la importancia de las variables*\n",
        "Abc\n",
        "###*Conclusión*\n",
        "Abc"
      ],
      "metadata": {
        "id": "ZuJJKOFgZDmG"
      }
    }
  ]
}